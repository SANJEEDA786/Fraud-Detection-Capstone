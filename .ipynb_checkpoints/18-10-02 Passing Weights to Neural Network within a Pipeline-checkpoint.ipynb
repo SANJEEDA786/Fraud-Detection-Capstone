{
 "cells": [
  {
   "cell_type": "code",
   "execution_count": null,
   "metadata": {},
   "outputs": [],
   "source": [
    "def create_model():\n",
    "    model = Sequential()\n",
    "    model.add(layers.Dense(128, activation='relu', input_shape=(10,),\n",
    "                          name='Dense_Layer_1'))\n",
    "    model.add(layers.Dense(64, activation='relu',\n",
    "                          name='Dense_Layer_2'))\n",
    "    model.add(layers.Dense(1, activation='sigmoid',\n",
    "                          name='Softmax_Layer'))\n",
    "    model.compile(optimizer='adam',\n",
    "             loss='binary_crossentropy',\n",
    "             metrics=['accuracy'])\n",
    "    return model\n",
    "\n",
    "# \n",
    "nn_model = KerasClassifier(build_fn=create_model, \n",
    "                           nb_epoch=10, verbose=1)\n",
    "\n",
    "nn_pipeline = make_pipeline(PCA(n_components=10),StandardScaler(),\n",
    "                             nn_model)\n",
    "\n",
    "\n",
    "# nn_scores = cross_validate(nn_pipeline, X_train, y_train, cv=5, \n",
    "#                            scoring=['accuracy','precision','recall',\n",
    "#                                     'f1','roc_auc'],\n",
    "#                            fit_params={'kerasclassifier__sample_weight':weights})\n",
    "\n",
    "nn_pipeline.fit(X_train,y_train,\n",
    "               **{'kerasclassifier__sample_weight':weights,\n",
    "                  'kerasclassifier__nb_epoch':5})\n",
    "\n",
    "plot_confusion_normal(model=nn_pipeline, classes=[0,1], \n",
    "                      name = 'Dense Neusal Network Pipeline',\n",
    "                      train_x=X_train, train_y=y_train,\n",
    "                      test_x=X_test ,test_y=y_test,\n",
    "                      cmap= plt.cm.BuPu)\n",
    "\n"
   ]
  }
 ],
 "metadata": {
  "kernelspec": {
   "display_name": "Python 3",
   "language": "python",
   "name": "python3"
  },
  "language_info": {
   "codemirror_mode": {
    "name": "ipython",
    "version": 3
   },
   "file_extension": ".py",
   "mimetype": "text/x-python",
   "name": "python",
   "nbconvert_exporter": "python",
   "pygments_lexer": "ipython3",
   "version": "3.6.6"
  },
  "varInspector": {
   "cols": {
    "lenName": 16,
    "lenType": 16,
    "lenVar": 40
   },
   "kernels_config": {
    "python": {
     "delete_cmd_postfix": "",
     "delete_cmd_prefix": "del ",
     "library": "var_list.py",
     "varRefreshCmd": "print(var_dic_list())"
    },
    "r": {
     "delete_cmd_postfix": ") ",
     "delete_cmd_prefix": "rm(",
     "library": "var_list.r",
     "varRefreshCmd": "cat(var_dic_list()) "
    }
   },
   "types_to_exclude": [
    "module",
    "function",
    "builtin_function_or_method",
    "instance",
    "_Feature"
   ],
   "window_display": false
  }
 },
 "nbformat": 4,
 "nbformat_minor": 2
}
